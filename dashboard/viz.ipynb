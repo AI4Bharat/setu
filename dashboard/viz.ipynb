{
 "cells": [
  {
   "cell_type": "code",
   "execution_count": 1,
   "metadata": {},
   "outputs": [],
   "source": [
    "import pandas as pd"
   ]
  },
  {
   "cell_type": "code",
   "execution_count": 29,
   "metadata": {},
   "outputs": [],
   "source": [
    "index = pd.read_parquet(\"./parquet/index.parquet\")"
   ]
  },
  {
   "cell_type": "code",
   "execution_count": 28,
   "metadata": {},
   "outputs": [],
   "source": [
    "index.drop([\"index\", \"Unnamed: 0\"], axis=1).to_parquet(\"./parquet/index.parquet\", compression=\"snappy\")"
   ]
  },
  {
   "cell_type": "code",
   "execution_count": 30,
   "metadata": {},
   "outputs": [
    {
     "data": {
      "text/html": [
       "<div>\n",
       "<style scoped>\n",
       "    .dataframe tbody tr th:only-of-type {\n",
       "        vertical-align: middle;\n",
       "    }\n",
       "\n",
       "    .dataframe tbody tr th {\n",
       "        vertical-align: top;\n",
       "    }\n",
       "\n",
       "    .dataframe thead th {\n",
       "        text-align: right;\n",
       "    }\n",
       "</style>\n",
       "<table border=\"1\" class=\"dataframe\">\n",
       "  <thead>\n",
       "    <tr style=\"text-align: right;\">\n",
       "      <th></th>\n",
       "      <th>identifier</th>\n",
       "      <th>domain</th>\n",
       "      <th>language</th>\n",
       "      <th>type</th>\n",
       "      <th>size_kb</th>\n",
       "      <th>type.1</th>\n",
       "    </tr>\n",
       "  </thead>\n",
       "  <tbody>\n",
       "    <tr>\n",
       "      <th>0</th>\n",
       "      <td>sangraha/crawls_29-5-2023/html/kannada/kannada...</td>\n",
       "      <td>kannada_momspresso</td>\n",
       "      <td>kannada</td>\n",
       "      <td>html</td>\n",
       "      <td>15.8789</td>\n",
       "      <td>None</td>\n",
       "    </tr>\n",
       "    <tr>\n",
       "      <th>1</th>\n",
       "      <td>sangraha/crawls_29-5-2023/html/kannada/kannada...</td>\n",
       "      <td>kannada_momspresso</td>\n",
       "      <td>kannada</td>\n",
       "      <td>html</td>\n",
       "      <td>6.9629</td>\n",
       "      <td>None</td>\n",
       "    </tr>\n",
       "    <tr>\n",
       "      <th>2</th>\n",
       "      <td>sangraha/crawls_29-5-2023/html/kannada/kannada...</td>\n",
       "      <td>kannada_momspresso</td>\n",
       "      <td>kannada</td>\n",
       "      <td>html</td>\n",
       "      <td>33.8877</td>\n",
       "      <td>None</td>\n",
       "    </tr>\n",
       "    <tr>\n",
       "      <th>3</th>\n",
       "      <td>sangraha/crawls_29-5-2023/html/kannada/kannada...</td>\n",
       "      <td>kannada_momspresso</td>\n",
       "      <td>kannada</td>\n",
       "      <td>html</td>\n",
       "      <td>17.2715</td>\n",
       "      <td>None</td>\n",
       "    </tr>\n",
       "    <tr>\n",
       "      <th>4</th>\n",
       "      <td>sangraha/crawls_29-5-2023/html/kannada/kannada...</td>\n",
       "      <td>kannada_momspresso</td>\n",
       "      <td>kannada</td>\n",
       "      <td>html</td>\n",
       "      <td>6.8721</td>\n",
       "      <td>None</td>\n",
       "    </tr>\n",
       "  </tbody>\n",
       "</table>\n",
       "</div>"
      ],
      "text/plain": [
       "                                          identifier              domain  \\\n",
       "0  sangraha/crawls_29-5-2023/html/kannada/kannada...  kannada_momspresso   \n",
       "1  sangraha/crawls_29-5-2023/html/kannada/kannada...  kannada_momspresso   \n",
       "2  sangraha/crawls_29-5-2023/html/kannada/kannada...  kannada_momspresso   \n",
       "3  sangraha/crawls_29-5-2023/html/kannada/kannada...  kannada_momspresso   \n",
       "4  sangraha/crawls_29-5-2023/html/kannada/kannada...  kannada_momspresso   \n",
       "\n",
       "  language  type  size_kb type.1  \n",
       "0  kannada  html  15.8789   None  \n",
       "1  kannada  html   6.9629   None  \n",
       "2  kannada  html  33.8877   None  \n",
       "3  kannada  html  17.2715   None  \n",
       "4  kannada  html   6.8721   None  "
      ]
     },
     "execution_count": 30,
     "metadata": {},
     "output_type": "execute_result"
    }
   ],
   "source": [
    "index.head()"
   ]
  },
  {
   "cell_type": "code",
   "execution_count": 31,
   "metadata": {},
   "outputs": [
    {
     "data": {
      "text/plain": [
       "22248633"
      ]
     },
     "execution_count": 31,
     "metadata": {},
     "output_type": "execute_result"
    }
   ],
   "source": [
    "len(index)"
   ]
  },
  {
   "cell_type": "code",
   "execution_count": 32,
   "metadata": {},
   "outputs": [],
   "source": [
    "import glob"
   ]
  },
  {
   "cell_type": "code",
   "execution_count": 33,
   "metadata": {},
   "outputs": [],
   "source": [
    "par_files = glob.glob(\"./parquet/*/*.parquet\")"
   ]
  },
  {
   "cell_type": "code",
   "execution_count": 34,
   "metadata": {},
   "outputs": [
    {
     "data": {
      "text/plain": [
       "'./parquet/kannada/bigtvnews.parquet'"
      ]
     },
     "execution_count": 34,
     "metadata": {},
     "output_type": "execute_result"
    }
   ],
   "source": [
    "par_files[0]"
   ]
  },
  {
   "cell_type": "code",
   "execution_count": 35,
   "metadata": {},
   "outputs": [
    {
     "data": {
      "text/plain": [
       "1959"
      ]
     },
     "execution_count": 35,
     "metadata": {},
     "output_type": "execute_result"
    }
   ],
   "source": [
    "len(par_files)"
   ]
  },
  {
   "cell_type": "code",
   "execution_count": 36,
   "metadata": {},
   "outputs": [],
   "source": [
    "import os"
   ]
  },
  {
   "cell_type": "code",
   "execution_count": 37,
   "metadata": {},
   "outputs": [],
   "source": [
    "languages = tuple(map(lambda x: os.path.split(x)[1] ,glob.glob(\"./parquet/*\")))"
   ]
  },
  {
   "cell_type": "code",
   "execution_count": 38,
   "metadata": {},
   "outputs": [
    {
     "data": {
      "text/plain": [
       "('kannada',\n",
       " 'gujarati',\n",
       " 'index.parquet',\n",
       " 'english',\n",
       " 'bengali',\n",
       " 'telugu',\n",
       " 'marathi',\n",
       " 'bodo',\n",
       " 'sindhi',\n",
       " 'assamese',\n",
       " 'hindi',\n",
       " 'odia',\n",
       " 'malayalam',\n",
       " 'nepali',\n",
       " 'tamil',\n",
       " 'urdu',\n",
       " 'sanskrit',\n",
       " 'punjabi')"
      ]
     },
     "execution_count": 38,
     "metadata": {},
     "output_type": "execute_result"
    }
   ],
   "source": [
    "languages"
   ]
  },
  {
   "cell_type": "code",
   "execution_count": 39,
   "metadata": {},
   "outputs": [],
   "source": [
    "lang_stats_df = pd.DataFrame(columns=[\"language\", \"domain_count\", \"article_count\"])\n",
    "for lang in languages:\n",
    "    domains_per_lang = glob.glob(f\"./parquet/{lang}/*.parquet\")\n",
    "    article_count = 0\n",
    "    for par_file in domains_per_lang:\n",
    "        df = pd.read_parquet(par_file)\n",
    "        article_count += len(df)\n",
    "    lang_stats_df.loc[len(lang_stats_df)] = {\"language\": lang, \"domain_count\": len(domains_per_lang), \"article_count\": article_count}"
   ]
  },
  {
   "cell_type": "code",
   "execution_count": 41,
   "metadata": {},
   "outputs": [],
   "source": [
    "lang_stats_df = lang_stats_df.drop([2]).reset_index().drop([\"index\"], axis=1)"
   ]
  },
  {
   "cell_type": "code",
   "execution_count": 42,
   "metadata": {},
   "outputs": [
    {
     "data": {
      "text/html": [
       "<div>\n",
       "<style scoped>\n",
       "    .dataframe tbody tr th:only-of-type {\n",
       "        vertical-align: middle;\n",
       "    }\n",
       "\n",
       "    .dataframe tbody tr th {\n",
       "        vertical-align: top;\n",
       "    }\n",
       "\n",
       "    .dataframe thead th {\n",
       "        text-align: right;\n",
       "    }\n",
       "</style>\n",
       "<table border=\"1\" class=\"dataframe\">\n",
       "  <thead>\n",
       "    <tr style=\"text-align: right;\">\n",
       "      <th></th>\n",
       "      <th>language</th>\n",
       "      <th>domain_count</th>\n",
       "      <th>article_count</th>\n",
       "    </tr>\n",
       "  </thead>\n",
       "  <tbody>\n",
       "    <tr>\n",
       "      <th>0</th>\n",
       "      <td>kannada</td>\n",
       "      <td>68</td>\n",
       "      <td>1856177</td>\n",
       "    </tr>\n",
       "    <tr>\n",
       "      <th>1</th>\n",
       "      <td>gujarati</td>\n",
       "      <td>140</td>\n",
       "      <td>2213541</td>\n",
       "    </tr>\n",
       "    <tr>\n",
       "      <th>2</th>\n",
       "      <td>english</td>\n",
       "      <td>72</td>\n",
       "      <td>1427651</td>\n",
       "    </tr>\n",
       "    <tr>\n",
       "      <th>3</th>\n",
       "      <td>bengali</td>\n",
       "      <td>180</td>\n",
       "      <td>3109402</td>\n",
       "    </tr>\n",
       "    <tr>\n",
       "      <th>4</th>\n",
       "      <td>telugu</td>\n",
       "      <td>24</td>\n",
       "      <td>786624</td>\n",
       "    </tr>\n",
       "    <tr>\n",
       "      <th>5</th>\n",
       "      <td>marathi</td>\n",
       "      <td>32</td>\n",
       "      <td>758623</td>\n",
       "    </tr>\n",
       "    <tr>\n",
       "      <th>6</th>\n",
       "      <td>bodo</td>\n",
       "      <td>3</td>\n",
       "      <td>2957</td>\n",
       "    </tr>\n",
       "    <tr>\n",
       "      <th>7</th>\n",
       "      <td>sindhi</td>\n",
       "      <td>1</td>\n",
       "      <td>7018</td>\n",
       "    </tr>\n",
       "    <tr>\n",
       "      <th>8</th>\n",
       "      <td>assamese</td>\n",
       "      <td>33</td>\n",
       "      <td>725421</td>\n",
       "    </tr>\n",
       "    <tr>\n",
       "      <th>9</th>\n",
       "      <td>hindi</td>\n",
       "      <td>107</td>\n",
       "      <td>1744715</td>\n",
       "    </tr>\n",
       "    <tr>\n",
       "      <th>10</th>\n",
       "      <td>odia</td>\n",
       "      <td>12</td>\n",
       "      <td>384670</td>\n",
       "    </tr>\n",
       "    <tr>\n",
       "      <th>11</th>\n",
       "      <td>malayalam</td>\n",
       "      <td>59</td>\n",
       "      <td>1294183</td>\n",
       "    </tr>\n",
       "    <tr>\n",
       "      <th>12</th>\n",
       "      <td>nepali</td>\n",
       "      <td>13</td>\n",
       "      <td>807500</td>\n",
       "    </tr>\n",
       "    <tr>\n",
       "      <th>13</th>\n",
       "      <td>tamil</td>\n",
       "      <td>48</td>\n",
       "      <td>1242649</td>\n",
       "    </tr>\n",
       "    <tr>\n",
       "      <th>14</th>\n",
       "      <td>urdu</td>\n",
       "      <td>1127</td>\n",
       "      <td>5350446</td>\n",
       "    </tr>\n",
       "    <tr>\n",
       "      <th>15</th>\n",
       "      <td>sanskrit</td>\n",
       "      <td>3</td>\n",
       "      <td>2442</td>\n",
       "    </tr>\n",
       "    <tr>\n",
       "      <th>16</th>\n",
       "      <td>punjabi</td>\n",
       "      <td>37</td>\n",
       "      <td>534614</td>\n",
       "    </tr>\n",
       "  </tbody>\n",
       "</table>\n",
       "</div>"
      ],
      "text/plain": [
       "     language  domain_count  article_count\n",
       "0     kannada            68        1856177\n",
       "1    gujarati           140        2213541\n",
       "2     english            72        1427651\n",
       "3     bengali           180        3109402\n",
       "4      telugu            24         786624\n",
       "5     marathi            32         758623\n",
       "6        bodo             3           2957\n",
       "7      sindhi             1           7018\n",
       "8    assamese            33         725421\n",
       "9       hindi           107        1744715\n",
       "10       odia            12         384670\n",
       "11  malayalam            59        1294183\n",
       "12     nepali            13         807500\n",
       "13      tamil            48        1242649\n",
       "14       urdu          1127        5350446\n",
       "15   sanskrit             3           2442\n",
       "16    punjabi            37         534614"
      ]
     },
     "execution_count": 42,
     "metadata": {},
     "output_type": "execute_result"
    }
   ],
   "source": [
    "lang_stats_df"
   ]
  },
  {
   "cell_type": "code",
   "execution_count": 49,
   "metadata": {},
   "outputs": [
    {
     "data": {
      "text/plain": [
       "<Axes: xlabel='language'>"
      ]
     },
     "execution_count": 49,
     "metadata": {},
     "output_type": "execute_result"
    },
    {
     "data": {
      "image/png": "[encoded data removed]",
      "text/plain": [
       "<Figure size 640x480 with 1 Axes>"
      ]
     },
     "metadata": {},
     "output_type": "display_data"
    }
   ],
   "source": [
    "lang_stats_df.plot(kind=\"bar\", x=\"language\", y=\"domain_count\")"
   ]
  },
  {
   "cell_type": "code",
   "execution_count": 50,
   "metadata": {},
   "outputs": [
    {
     "data": {
      "text/plain": [
       "<Axes: xlabel='language'>"
      ]
     },
     "execution_count": 50,
     "metadata": {},
     "output_type": "execute_result"
    },
    {
     "data": {
      "image/png": "[encoded data removed]",
      "text/plain": [
       "<Figure size 640x480 with 1 Axes>"
      ]
     },
     "metadata": {},
     "output_type": "display_data"
    }
   ],
   "source": [
    "lang_stats_df.plot(kind=\"bar\", x=\"language\", y=\"article_count\")"
   ]
  },
  {
   "cell_type": "code",
   "execution_count": 54,
   "metadata": {},
   "outputs": [],
   "source": [
    "lang_stats_df.to_csv(\"./analysis/index_stats.csv\", index=False)"
   ]
  },
  {
   "cell_type": "code",
   "execution_count": 1,
   "metadata": {},
   "outputs": [],
   "source": [
    "import json"
   ]
  },
  {
   "cell_type": "code",
   "execution_count": 2,
   "metadata": {},
   "outputs": [],
   "source": [
    "with open(\"../pipeline/language_identification/language_mapping.json\") as lang_map_f:\n",
    "    mapping = json.load(lang_map_f)"
   ]
  },
  {
   "cell_type": "code",
   "execution_count": 15,
   "metadata": {},
   "outputs": [
    {
     "name": "stdout",
     "output_type": "stream",
     "text": [
      "['Assamese', 'Assamese', 'Bangla', 'Bangla', 'Bodo', 'Bodo', 'Dogri', 'Dogri', 'English', 'Gujarati', 'Gujarati', 'Hindi', 'Hindi', 'Kannada', 'Kannada', 'Kashmiri', 'Kashmiri', 'Kashmiri', 'Konkani', 'Konkani', 'Maithili', 'Maithili', 'Malayalam', 'Malayalam', 'Manipuri', 'Manipuri', 'Manipuri', 'Marathi', 'Marathi', 'Nepali', 'Nepali', 'Oriya', 'Oriya', 'Punjabi', 'Punjabi', 'Sanskrit', 'Sanskrit', 'Santali', 'Sindhi', 'Sindhi', 'Tamil', 'Tamil', 'Telugu', 'Telugu', 'Urdu', 'Urdu', 'other']\n",
      "{'Gujarati', 'Dogri', 'Konkani', 'Kashmiri', 'Tamil', 'Punjabi', 'Assamese', 'Telugu', 'Maithili', 'Malayalam', 'Nepali', 'Sindhi', 'Oriya', 'English', 'Sanskrit', 'Bangla', 'Manipuri', 'Hindi', 'other', 'Urdu', 'Marathi', 'Bodo', 'Santali', 'Kannada'}\n",
      "24\n",
      "['Afrikaans', 'Amharic', 'Arabic', 'Bulgarian', 'Bulgarian', 'Bangla', 'Bosnian', 'Catalan', 'Cebuano', 'Corsican', 'Czech', 'Welsh', 'Danish', 'German', 'Greek', 'Greek', 'English', 'Esperanto', 'Spanish', 'Estonian', 'Basque', 'Persian', 'Finnish', 'Filipino', 'French', 'Western Frisian', 'Irish', 'Scottish Gaelic', 'Galician', 'Gujarati', 'Hausa', 'Hawaiian', 'Hindi', 'Hindi', 'Hmong', 'Croatian', 'Haitian Creole', 'Hungarian', 'Armenian', 'Indonesian', 'Igbo', 'Icelandic', 'Italian', 'Hebrew', 'Japanese', 'Japanese', 'Javanese', 'Georgian', 'Kazakh', 'Khmer', 'Kannada', 'Korean', 'Kurdish', 'Kyrgyz', 'Latin', 'Luxembourgish', 'Lao', 'Lithuanian', 'Latvian', 'Malagasy', 'Maori', 'Macedonian', 'Malayalam', 'Mongolian', 'Marathi', 'Malay', 'Maltese', 'Burmese', 'Nepali', 'Dutch', 'Norwegian', 'Nyanja', 'Punjabi', 'Polish', 'Pashto', 'Portuguese', 'Romanian', 'Russian', 'Russian', 'Sindhi', 'Sinhala', 'Slovak', 'Slovenian', 'Samoan', 'Shona', 'Somali', 'Albanian', 'Serbian', 'Southern Sotho', 'Sundanese', 'Swedish', 'Swahili', 'Tamil', 'Telugu', 'Tajik', 'Thai', 'Turkish', 'Ukrainian', 'Urdu', 'Uzbek', 'Vietnamese', 'Xhosa', 'Yiddish', 'Yoruba', 'Chinese', 'Chinese', 'Zulu']\n",
      "{'Kazakh', 'Spanish', 'Hausa', 'Estonian', 'Gujarati', 'Nyanja', 'Hungarian', 'Hebrew', 'Yiddish', 'Yoruba', 'Tamil', 'Tajik', 'Telugu', 'Maori', 'Xhosa', 'Southern Sotho', 'Kyrgyz', 'Bosnian', 'Finnish', 'Polish', 'Malagasy', 'Somali', 'Persian', 'Ukrainian', 'Maltese', 'Norwegian', 'Zulu', 'Bangla', 'Galician', 'Hindi', 'Urdu', 'Marathi', 'German', 'Serbian', 'Croatian', 'Latvian', 'Corsican', 'Armenian', 'Irish', 'Lithuanian', 'Uzbek', 'Esperanto', 'Czech', 'Albanian', 'Igbo', 'Danish', 'Korean', 'Haitian Creole', 'Luxembourgish', 'Samoan', 'Malay', 'Bulgarian', 'Hawaiian', 'Western Frisian', 'Macedonian', 'Shona', 'Punjabi', 'Japanese', 'Chinese', 'English', 'Dutch', 'Georgian', 'Romanian', 'Portuguese', 'Catalan', 'Indonesian', 'Hmong', 'Mongolian', 'Javanese', 'Sinhala', 'Swedish', 'Welsh', 'Sundanese', 'Cebuano', 'Scottish Gaelic', 'Russian', 'French', 'Italian', 'Vietnamese', 'Amharic', 'Malayalam', 'Slovak', 'Nepali', 'Sindhi', 'Khmer', 'Slovenian', 'Swahili', 'Lao', 'Icelandic', 'Basque', 'Thai', 'Burmese', 'Latin', 'Filipino', 'Kurdish', 'Arabic', 'Turkish', 'Pashto', 'Afrikaans', 'Greek', 'Kannada'}\n",
      "101\n",
      "['Acehnese', 'Acehnese', 'Mesopotamian', 'Ta’izzi-Adeni', 'Tunisian', 'Afrikaans', 'South Levantine', 'Akan', 'Amharic', 'North Levantine', 'Arabic', 'Arabic', 'Najdi', 'Moroccan', 'Egyptian', 'Assamese', 'Asturian', 'Awadhi', 'Central Aymara', 'South Azerbaijani', 'North Azerbaijani', 'Bashkir', 'Bambara', 'Balinese', 'Belarusian', 'Bemba', 'Bengali', 'Bhojpuri', 'Banjar', 'Banjar', 'Tibetan', 'Bosnian', 'Buginese', 'Bulgarian', 'Catalan', 'Cebuano', 'Czech', 'Chokwe', 'Central Kurdish', 'Crimean Tatar', 'Welsh', 'Danish', 'German', 'Southwestern Dinka', 'Dyula', 'Dzongkha', 'Greek', 'English', 'Esperanto', 'Estonian', 'Basque', 'Ewe', 'Faroese', 'Fijian', 'Finnish', 'Fon', 'French', 'Friulian', 'Nigerian Fulfulde', 'Scottish Gaelic', 'Irish', 'Galician', 'Guarani', 'Gujarati', 'Haitian Creole', 'Hausa', 'Hebrew', 'Hindi', 'Chhattisgarhi', 'Croatian', 'Hungarian', 'Armenian', 'Igbo', 'Ilocano', 'Indonesian', 'Icelandic', 'Italian', 'Javanese', 'Japanese', 'Kabyle', 'Jingpho', 'Kamba', 'Kannada', 'Kashmiri', 'Kashmiri', 'Georgian', 'Central Kanuri', 'Central Kanuri', 'Kazakh', 'Kabiyè', 'Kabuverdianu', 'Khmer', 'Kikuyu', 'Kinyarwanda', 'Kyrgyz', 'Kimbundu', 'Northern Kurdish', 'Kikongo', 'Korean', 'Lao', 'Ligurian', 'Limburgish', 'Lingala', 'Lithuanian', 'Lombard', 'Latgalian', 'Luxembourgish', 'Luba-Kasai', 'Ganda', 'Luo', 'Mizo', 'Latvian', 'Magahi', 'Maithili', 'Malayalam', 'Marathi', 'Minangkabau', 'Minangkabau', 'Macedonian', 'Plateau Malagasy', 'Maltese', 'Meitei', 'Halh Mongolian', 'Mossi', 'Maori', 'Burmese', 'Dutch', 'Norwegian Nynorsk', 'Norwegian Bokmål', 'Nepali', 'Northern Sotho', 'Nuer', 'Nyanja', 'Occitan', 'West Central Oromo', 'Odia', 'Pangasinan', 'Eastern Panjabi', 'Papiamento', 'Western Persian', 'Polish', 'Portuguese', 'Dari', 'Southern Pashto', 'Ayacucho Quechua', 'Romanian', 'Rundi', 'Russian', 'Sango', 'Sanskrit', 'Santali', 'Sicilian', 'Shan', 'Sinhala', 'Slovak', 'Slovenian', 'Samoan', 'Shona', 'Sindhi', 'Somali', 'Southern Sotho', 'Spanish', 'Tosk Albanian', 'Sardinian', 'Serbian', 'Swati', 'Sundanese', 'Swedish', 'Swahili', 'Silesian', 'Tamil', 'Tatar', 'Telugu', 'Tajik', 'Tagalog', 'Thai', 'Tigrinya', 'Tamasheq (Latin script)', 'Tamasheq (Tifinagh script)', 'Tok Pisin', 'Tswana', 'Tsonga', 'Turkmen', 'Tumbuka', 'Turkish', 'Twi', 'Central Atlas Tamazight', 'Uyghur', 'Ukrainian', 'Umbundu', 'Urdu', 'Northern Uzbek', 'Venetian', 'Vietnamese', 'Waray', 'Wolof', 'Xhosa', 'Eastern Yiddish', 'Yoruba', 'Yue Chinese', 'Chinese', 'Chinese', 'Standard Malay', 'Zulu']\n",
      "{'Kazakh', 'Occitan', 'Spanish', 'Hausa', 'Estonian', 'Gujarati', 'Kinyarwanda', 'Hungarian', 'Nyanja', 'Dari', 'Hebrew', 'Kashmiri', 'Yoruba', 'Norwegian Nynorsk', 'Tamil', 'Banjar', 'Northern Kurdish', 'Tajik', 'Awadhi', 'Belarusian', 'Telugu', 'Maori', 'Papiamento', 'Xhosa', 'Southern Sotho', 'Northern Uzbek', 'Kyrgyz', 'Shan', 'Meitei', 'Bosnian', 'Finnish', 'Polish', 'Mossi', 'Somali', 'Sanskrit', 'Southwestern Dinka', 'Ukrainian', 'Bashkir', 'Maltese', 'Zulu', 'Galician', 'Hindi', 'Norwegian Bokmål', 'Minangkabau', 'Balinese', 'Urdu', 'Waray', 'Marathi', 'German', 'Santali', 'Tigrinya', 'Tosk Albanian', 'Silesian', 'Serbian', 'Ayacucho Quechua', 'Tumbuka', 'Sango', 'Croatian', 'Guarani', 'Sicilian', 'Luba-Kasai', 'Tok Pisin', 'Turkmen', 'Yue Chinese', 'Latvian', 'Jingpho', 'Armenian', 'Irish', 'Maithili', 'Lithuanian', 'Rundi', 'Western Persian', 'North Azerbaijani', 'Central Kurdish', 'Esperanto', 'Swati', 'Czech', 'Kabiyè', 'Igbo', 'Danish', 'Akan', 'Korean', 'Standard Malay', 'Haitian Creole', 'Central Aymara', 'Tunisian', 'Luxembourgish', 'Tibetan', 'South Levantine', 'Southern Pashto', 'Plateau Malagasy', 'Samoan', 'Tagalog', 'Dyula', 'Bulgarian', 'Eastern Panjabi', 'South Azerbaijani', 'Sardinian', 'Northern Sotho', 'Moroccan', 'Macedonian', 'Odia', 'Lingala', 'Shona', 'Twi', 'Uyghur', 'Assamese', 'Japanese', 'Kikuyu', 'North Levantine', 'Mesopotamian', 'Ilocano', 'Tamasheq (Latin script)', 'Chinese', 'English', 'Central Kanuri', 'Bhojpuri', 'Dutch', 'Georgian', 'Pangasinan', 'Romanian', 'Portuguese', 'Lombard', 'Catalan', 'Indonesian', 'Javanese', 'Venetian', 'Ganda', 'Ligurian', 'Sinhala', 'Bengali', 'Welsh', 'Fon', 'Bambara', 'Swedish', 'Asturian', 'Sundanese', 'Najdi', 'Kabyle', 'Kimbundu', 'Tamasheq (Tifinagh script)', 'Buginese', 'Tswana', 'Eastern Yiddish', 'Crimean Tatar', 'Cebuano', 'Chokwe', 'Scottish Gaelic', 'Nuer', 'Fijian', 'Tsonga', 'Chhattisgarhi', 'Russian', 'French', 'Italian', 'Limburgish', 'Kabuverdianu', 'Vietnamese', 'Amharic', 'Faroese', 'Kikongo', 'Malayalam', 'Slovak', 'Nepali', 'Wolof', 'Ta’izzi-Adeni', 'Dzongkha', 'West Central Oromo', 'Khmer', 'Sindhi', 'Slovenian', 'Friulian', 'Latgalian', 'Swahili', 'Lao', 'Icelandic', 'Basque', 'Acehnese', 'Mizo', 'Thai', 'Burmese', 'Umbundu', 'Nigerian Fulfulde', 'Arabic', 'Turkish', 'Egyptian', 'Ewe', 'Tatar', 'Luo', 'Afrikaans', 'Central Atlas Tamazight', 'Greek', 'Bemba', 'Kamba', 'Kannada', 'Magahi', 'Halh Mongolian'}\n",
      "101\n"
     ]
    }
   ],
   "source": [
    "indiclid_set = []\n",
    "cld3_set = []\n",
    "nllb_set = []\n",
    "\n",
    "for keys, vals in mapping[\"indiclid\"].items():\n",
    "    indiclid_set += [vals[\"language\"]]\n",
    "\n",
    "print(indiclid_set)\n",
    "\n",
    "print(set(indiclid_set))\n",
    "\n",
    "indiclid_set  = set(indiclid_set)\n",
    "\n",
    "print(len(indiclid_set))\n",
    "\n",
    "for keys, vals in mapping[\"cld3\"].items():\n",
    "    cld3_set += [vals[\"language\"]]\n",
    "\n",
    "print(cld3_set)\n",
    "\n",
    "print(set(cld3_set))\n",
    "\n",
    "cld3_set  = set(cld3_set)\n",
    "\n",
    "print(len(cld3_set))\n",
    "\n",
    "for keys, vals in mapping[\"nllb\"].items():\n",
    "    nllb_set += [vals[\"language\"]]\n",
    "\n",
    "print(nllb_set)\n",
    "\n",
    "print(set(nllb_set))\n",
    "\n",
    "nllb_set  = set(nllb_set)\n",
    "\n",
    "print(len(cld3_set))"
   ]
  },
  {
   "cell_type": "code",
   "execution_count": 18,
   "metadata": {},
   "outputs": [
    {
     "name": "stdout",
     "output_type": "stream",
     "text": [
      "['Acehnese', 'Afrikaans', 'Akan', 'Albanian', 'Amharic', 'Arabic', 'Armenian', 'Assamese', 'Asturian', 'Awadhi', 'Ayacucho Quechua', 'Balinese', 'Bambara', 'Bangla', 'Banjar', 'Bashkir', 'Basque', 'Belarusian', 'Bemba', 'Bengali', 'Bhojpuri', 'Bodo', 'Bosnian', 'Buginese', 'Bulgarian', 'Burmese', 'Catalan', 'Cebuano', 'Central Atlas Tamazight', 'Central Aymara', 'Central Kanuri', 'Central Kurdish', 'Chhattisgarhi', 'Chinese', 'Chokwe', 'Corsican', 'Crimean Tatar', 'Croatian', 'Czech', 'Danish', 'Dari', 'Dogri', 'Dutch', 'Dyula', 'Dzongkha', 'Eastern Panjabi', 'Eastern Yiddish', 'Egyptian', 'English', 'Esperanto', 'Estonian', 'Ewe', 'Faroese', 'Fijian', 'Filipino', 'Finnish', 'Fon', 'French', 'Friulian', 'Galician', 'Ganda', 'Georgian', 'German', 'Greek', 'Guarani', 'Gujarati', 'Haitian Creole', 'Halh Mongolian', 'Hausa', 'Hawaiian', 'Hebrew', 'Hindi', 'Hmong', 'Hungarian', 'Icelandic', 'Igbo', 'Ilocano', 'Indonesian', 'Irish', 'Italian', 'Japanese', 'Javanese', 'Jingpho', 'Kabiyè', 'Kabuverdianu', 'Kabyle', 'Kamba', 'Kannada', 'Kashmiri', 'Kazakh', 'Khmer', 'Kikongo', 'Kikuyu', 'Kimbundu', 'Kinyarwanda', 'Konkani', 'Korean', 'Kurdish', 'Kyrgyz', 'Lao', 'Latgalian', 'Latin', 'Latvian', 'Ligurian', 'Limburgish', 'Lingala', 'Lithuanian', 'Lombard', 'Luba-Kasai', 'Luo', 'Luxembourgish', 'Macedonian', 'Magahi', 'Maithili', 'Malagasy', 'Malay', 'Malayalam', 'Maltese', 'Manipuri', 'Maori', 'Marathi', 'Meitei', 'Mesopotamian', 'Minangkabau', 'Mizo', 'Mongolian', 'Moroccan', 'Mossi', 'Najdi', 'Nepali', 'Nigerian Fulfulde', 'North Azerbaijani', 'North Levantine', 'Northern Kurdish', 'Northern Sotho', 'Northern Uzbek', 'Norwegian', 'Norwegian Bokmål', 'Norwegian Nynorsk', 'Nuer', 'Nyanja', 'Occitan', 'Odia', 'Oriya', 'Pangasinan', 'Papiamento', 'Pashto', 'Persian', 'Plateau Malagasy', 'Polish', 'Portuguese', 'Punjabi', 'Romanian', 'Rundi', 'Russian', 'Samoan', 'Sango', 'Sanskrit', 'Santali', 'Sardinian', 'Scottish Gaelic', 'Serbian', 'Shan', 'Shona', 'Sicilian', 'Silesian', 'Sindhi', 'Sinhala', 'Slovak', 'Slovenian', 'Somali', 'South Azerbaijani', 'South Levantine', 'Southern Pashto', 'Southern Sotho', 'Southwestern Dinka', 'Spanish', 'Standard Malay', 'Sundanese', 'Swahili', 'Swati', 'Swedish', 'Tagalog', 'Tajik', 'Tamasheq (Latin script)', 'Tamasheq (Tifinagh script)', 'Tamil', 'Tatar', 'Ta’izzi-Adeni', 'Telugu', 'Thai', 'Tibetan', 'Tigrinya', 'Tok Pisin', 'Tosk Albanian', 'Tsonga', 'Tswana', 'Tumbuka', 'Tunisian', 'Turkish', 'Turkmen', 'Twi', 'Ukrainian', 'Umbundu', 'Urdu', 'Uyghur', 'Uzbek', 'Venetian', 'Vietnamese', 'Waray', 'Welsh', 'West Central Oromo', 'Western Frisian', 'Western Persian', 'Wolof', 'Xhosa', 'Yiddish', 'Yoruba', 'Yue Chinese', 'Zulu', 'other']\n",
      "221\n"
     ]
    }
   ],
   "source": [
    "final_set = indiclid_set.union(cld3_set).union(nllb_set)\n",
    "print(sorted(list(final_set)))\n",
    "print(len(final_set))"
   ]
  },
  {
   "cell_type": "code",
   "execution_count": 108,
   "metadata": {},
   "outputs": [],
   "source": [
    "from pyspark.sql import SparkSession\n",
    "from pyspark import TaskContext\n",
    "from pyspark.sql.functions import map_concat, count, posexplode, udf, concat_ws, collect_list, asc\n",
    "from operator import add\n",
    "from pyspark.sql import SparkSession\n",
    "from pyspark.sql.types import StructType,StructField, StringType, IntegerType, MapType, ArrayType"
   ]
  },
  {
   "cell_type": "code",
   "execution_count": 2,
   "metadata": {},
   "outputs": [
    {
     "name": "stderr",
     "output_type": "stream",
     "text": [
      "Setting default log level to \"WARN\".\n",
      "To adjust logging level use sc.setLogLevel(newLevel). For SparkR, use setLogLevel(newLevel).\n",
      "23/07/19 19:08:25 WARN NativeCodeLoader: Unable to load native-hadoop library for your platform... using builtin-java classes where applicable\n"
     ]
    }
   ],
   "source": [
    "spark = SparkSession \\\n",
    "        .builder \\\n",
    "        .appName(\"Convert JSONs to Parquet\") \\\n",
    "        .getOrCreate()"
   ]
  },
  {
   "cell_type": "code",
   "execution_count": 3,
   "metadata": {},
   "outputs": [],
   "source": [
    "sc = spark.sparkContext"
   ]
  },
  {
   "cell_type": "code",
   "execution_count": 84,
   "metadata": {},
   "outputs": [
    {
     "name": "stdout",
     "output_type": "stream",
     "text": [
      "root\n",
      " |-- id: string (nullable = true)\n",
      " |-- pos: integer (nullable = true)\n",
      " |-- dists: string (nullable = true)\n",
      "\n",
      "+-----+---+-------+\n",
      "|id   |pos|dists  |\n",
      "+-----+---+-------+\n",
      "|36636|0  |F      |\n",
      "|36636|2  |a      |\n",
      "|36636|1  |Finance|\n",
      "|40288|0  |m      |\n",
      "|42114|0  |c      |\n",
      "|39192|0  |q      |\n",
      "|34534|0  |z      |\n",
      "+-----+---+-------+\n",
      "\n"
     ]
    }
   ],
   "source": [
    "# data = [\n",
    "#     (\"36636\",{\"Finance\": 1, \"Sales\": 2}),\n",
    "#     (\"36636\",{\"Finance\": 1, \"Sales\": 2}), \n",
    "#     (\"36636\",{\"Finance\": 1, \"Sales\": 2}), \n",
    "#     (\"40288\",{\"Finance\": 1, \"Sales\": 2}), \n",
    "#     (\"42114\",{\"Finance\": 1, \"Sales\": 2}), \n",
    "#     (\"39192\",{\"Finance\": 1, \"Sales\": 2}), \n",
    "#     (\"34534\",{\"Finance\": 1, \"Sales\": 2}) \n",
    "# ]\n",
    "# schema = StructType([\n",
    "#     StructField('id', StringType(), True),\n",
    "#     StructField('dists', MapType(StringType(), IntegerType()), True),\n",
    "# ])\n",
    "\n",
    "# def list_len(arr):\n",
    "#     return len(arr)\n",
    "\n",
    "# list_len_udf = udf(list_len, IntegerType())\n",
    "\n",
    "# data = [\n",
    "#     (\"36636\",[\"Finance\", \"Sales\"]),\n",
    "#     (\"36636\",[\"Finance\", \"Sales\"]), \n",
    "#     (\"36636\",[\"Finance\", \"Sales\"]), \n",
    "#     (\"40288\",[\"Finance\", \"Sales\"]), \n",
    "#     (\"42114\",[\"Finance\", \"Sales\"]), \n",
    "#     (\"39192\",[\"Finance\", \"Sales\"]), \n",
    "#     (\"34534\",[\"Finance\", \"Sales\"]) \n",
    "# ]\n",
    "# schema = StructType([\n",
    "#     StructField('id', StringType(), True),\n",
    "#     StructField('dists', ArrayType(StringType()), True),\n",
    "# ])\n",
    "\n",
    "def list_len(arr):\n",
    "    return len(arr)\n",
    "\n",
    "list_len_udf = udf(list_len, IntegerType())\n",
    "\n",
    "data = [\n",
    "    (\"36636\", 0, \"F\"), \n",
    "    (\"36636\", 2, \"a\"),\n",
    "    (\"36636\", 1,\"Finance\"), \n",
    "    (\"40288\", 0,\"m\"), \n",
    "    (\"42114\", 0,\"c\"), \n",
    "    (\"39192\", 0,\"q\"), \n",
    "    (\"34534\", 0,\"z\") \n",
    "]\n",
    "schema = StructType([\n",
    "    StructField('id', StringType(), True),\n",
    "    StructField('pos', IntegerType(), True),\n",
    "    StructField('dists', StringType(), True),\n",
    "])\n",
    "\n",
    "df = spark.createDataFrame(data=data,schema=schema)\n",
    "df.printSchema()\n",
    "df.show(truncate=False)"
   ]
  },
  {
   "cell_type": "code",
   "execution_count": 85,
   "metadata": {},
   "outputs": [],
   "source": [
    "df = df.repartition(7)"
   ]
  },
  {
   "cell_type": "code",
   "execution_count": 86,
   "metadata": {},
   "outputs": [
    {
     "data": {
      "text/plain": [
       "7"
      ]
     },
     "execution_count": 86,
     "metadata": {},
     "output_type": "execute_result"
    }
   ],
   "source": [
    "df.rdd.getNumPartitions()"
   ]
  },
  {
   "cell_type": "code",
   "execution_count": 87,
   "metadata": {},
   "outputs": [
    {
     "ename": "AttributeError",
     "evalue": "'GroupedData' object has no attribute 'sort'",
     "output_type": "error",
     "traceback": [
      "\u001b[0;31m---------------------------------------------------------------------------\u001b[0m",
      "\u001b[0;31mAttributeError\u001b[0m                            Traceback (most recent call last)",
      "Cell \u001b[0;32mIn[87], line 3\u001b[0m\n\u001b[1;32m      1\u001b[0m df \u001b[39m=\u001b[39m df \\\n\u001b[1;32m      2\u001b[0m     \u001b[39m.\u001b[39;49mgroupby(\u001b[39m\"\u001b[39;49m\u001b[39mid\u001b[39;49m\u001b[39m\"\u001b[39;49m) \\\n\u001b[0;32m----> 3\u001b[0m     \u001b[39m.\u001b[39;49msort(\u001b[39m\"\u001b[39m\u001b[39mpos\u001b[39m\u001b[39m\"\u001b[39m) \\\n\u001b[1;32m      4\u001b[0m     \u001b[39m.\u001b[39magg(concat_ws(\u001b[39m\"\u001b[39m\u001b[39m \u001b[39m\u001b[39m\"\u001b[39m, collect_list(\u001b[39m\"\u001b[39m\u001b[39mdists\u001b[39m\u001b[39m\"\u001b[39m))\u001b[39m.\u001b[39malias(\u001b[39m\"\u001b[39m\u001b[39mnew\u001b[39m\u001b[39m\"\u001b[39m)) \\\n\u001b[1;32m      5\u001b[0m     \u001b[39m.\u001b[39mshow()\n",
      "\u001b[0;31mAttributeError\u001b[0m: 'GroupedData' object has no attribute 'sort'"
     ]
    }
   ],
   "source": [
    "df = df \\\n",
    "    .groupby(\"id\") \\\n",
    "    .agg(concat_ws(\" \", sort(collect_list(\"dists\"))).alias(\"new\")) \\\n",
    "    .sort(\"pos\") \\\n",
    "    .show()"
   ]
  },
  {
   "cell_type": "code",
   "execution_count": 67,
   "metadata": {},
   "outputs": [],
   "source": [
    "df = df.withColumn(\"list_len\", list_len_udf(\"dists\"))"
   ]
  },
  {
   "cell_type": "code",
   "execution_count": 68,
   "metadata": {},
   "outputs": [
    {
     "data": {
      "text/plain": [
       "7"
      ]
     },
     "execution_count": 68,
     "metadata": {},
     "output_type": "execute_result"
    }
   ],
   "source": [
    "df.rdd.getNumPartitions()"
   ]
  },
  {
   "cell_type": "code",
   "execution_count": 62,
   "metadata": {},
   "outputs": [
    {
     "ename": "TypeError",
     "evalue": "DataFrame.withColumn() missing 1 required positional argument: 'col'",
     "output_type": "error",
     "traceback": [
      "\u001b[0;31m---------------------------------------------------------------------------\u001b[0m",
      "\u001b[0;31mTypeError\u001b[0m                                 Traceback (most recent call last)",
      "Cell \u001b[0;32mIn[62], line 1\u001b[0m\n\u001b[0;32m----> 1\u001b[0m df \u001b[39m=\u001b[39m df\u001b[39m.\u001b[39;49mwithColumn(posexplode(\u001b[39m\"\u001b[39;49m\u001b[39mdists\u001b[39;49m\u001b[39m\"\u001b[39;49m))\u001b[39m.\u001b[39mdrop(\u001b[39m\"\u001b[39m\u001b[39mdists\u001b[39m\u001b[39m\"\u001b[39m)\u001b[39m.\u001b[39mwithColumnRenamed(\u001b[39m\"\u001b[39m\u001b[39mcol\u001b[39m\u001b[39m\"\u001b[39m, \u001b[39m\"\u001b[39m\u001b[39mdists\u001b[39m\u001b[39m\"\u001b[39m)\n",
      "\u001b[0;31mTypeError\u001b[0m: DataFrame.withColumn() missing 1 required positional argument: 'col'"
     ]
    }
   ],
   "source": [
    "df = df.select(\"*\", posexplode(\"dists\")).drop(\"dists\").withColumnRenamed(\"col\", \"dists\")"
   ]
  },
  {
   "cell_type": "code",
   "execution_count": 30,
   "metadata": {},
   "outputs": [],
   "source": [
    "#Convert columns to Map\n",
    "from pyspark.sql.functions import col,lit,create_map, collect_list, expr, udf\n",
    "from pyspark.sql.functions import col, expr, map_concat, map_from_arrays\n",
    "\n",
    "def merge(arr):\n",
    "        arr_dict = {}\n",
    "        for mapp in arr:\n",
    "                for key, val in mapp.items():\n",
    "                        arr_dict[key] = arr_dict.get(key, 0) + val\n",
    "        return arr_dict\n",
    "\n",
    "merge_udf = udf(merge, MapType(StringType(), IntegerType()))\n",
    "\n",
    "# df2 = df.groupBy(\"id\") \\\n",
    "#         .agg(collect_list(\"dists\").alias(\"dists\")) \\\n",
    "#         .withColumn(\"nsfw_dist\", merge_udf(\"dists\"))\n",
    "\n",
    "df2 = df.select(\"*\")\n"
   ]
  },
  {
   "cell_type": "code",
   "execution_count": 60,
   "metadata": {},
   "outputs": [
    {
     "data": {
      "text/plain": [
       "7"
      ]
     },
     "execution_count": 60,
     "metadata": {},
     "output_type": "execute_result"
    }
   ],
   "source": [
    "df.rdd.getNumPartitions()"
   ]
  },
  {
   "cell_type": "code",
   "execution_count": 61,
   "metadata": {},
   "outputs": [
    {
     "name": "stdout",
     "output_type": "stream",
     "text": [
      "+-----+---+-------+\n",
      "|   id|pos|  dists|\n",
      "+-----+---+-------+\n",
      "|36636|  0|Finance|\n",
      "|36636|  1|  Sales|\n",
      "|34534|  0|Finance|\n",
      "|34534|  1|  Sales|\n",
      "|39192|  0|Finance|\n",
      "|39192|  1|  Sales|\n",
      "|36636|  0|Finance|\n",
      "|36636|  1|  Sales|\n",
      "|40288|  0|Finance|\n",
      "|40288|  1|  Sales|\n",
      "|42114|  0|Finance|\n",
      "|42114|  1|  Sales|\n",
      "|36636|  0|Finance|\n",
      "|36636|  1|  Sales|\n",
      "+-----+---+-------+\n",
      "\n"
     ]
    }
   ],
   "source": [
    "df.show()"
   ]
  },
  {
   "cell_type": "code",
   "execution_count": 24,
   "metadata": {},
   "outputs": [
    {
     "data": {
      "text/plain": [
       "1"
      ]
     },
     "execution_count": 24,
     "metadata": {},
     "output_type": "execute_result"
    }
   ],
   "source": [
    "df.repartition(1).rdd.getNumPartitions()"
   ]
  },
  {
   "cell_type": "code",
   "execution_count": 55,
   "metadata": {},
   "outputs": [
    {
     "data": {
      "text/plain": [
       "7"
      ]
     },
     "execution_count": 55,
     "metadata": {},
     "output_type": "execute_result"
    }
   ],
   "source": [
    "df2.rdd.getNumPartitions()"
   ]
  },
  {
   "cell_type": "code",
   "execution_count": 26,
   "metadata": {},
   "outputs": [
    {
     "ename": "AnalysisException",
     "evalue": "[UNRESOLVED_COLUMN.WITH_SUGGESTION] A column or function parameter with name `map` cannot be resolved. Did you mean one of the following? [`id`, `dists`, `nsfw_dist`].;\n'Project [id#13, 'map]\n+- Project [id#13, dists#90, merge(dists#90)#93 AS nsfw_dist#94]\n   +- Aggregate [id#13], [id#13, collect_list(dists#14, 0, 0) AS dists#90]\n      +- LogicalRDD [id#13, dists#14], false\n",
     "output_type": "error",
     "traceback": [
      "\u001b[0;31m---------------------------------------------------------------------------\u001b[0m",
      "\u001b[0;31mAnalysisException\u001b[0m                         Traceback (most recent call last)",
      "Cell \u001b[0;32mIn[26], line 1\u001b[0m\n\u001b[0;32m----> 1\u001b[0m df2\u001b[39m.\u001b[39;49mselect(\u001b[39m\"\u001b[39;49m\u001b[39mid\u001b[39;49m\u001b[39m\"\u001b[39;49m, \u001b[39m\"\u001b[39;49m\u001b[39mmap\u001b[39;49m\u001b[39m\"\u001b[39;49m)\u001b[39m.\u001b[39mshow()\n",
      "File \u001b[0;32m~/miniconda3/envs/data_cleaning_env/lib/python3.10/site-packages/pyspark/sql/dataframe.py:3036\u001b[0m, in \u001b[0;36mDataFrame.select\u001b[0;34m(self, *cols)\u001b[0m\n\u001b[1;32m   2991\u001b[0m \u001b[39mdef\u001b[39;00m \u001b[39mselect\u001b[39m(\u001b[39mself\u001b[39m, \u001b[39m*\u001b[39mcols: \u001b[39m\"\u001b[39m\u001b[39mColumnOrName\u001b[39m\u001b[39m\"\u001b[39m) \u001b[39m-\u001b[39m\u001b[39m>\u001b[39m \u001b[39m\"\u001b[39m\u001b[39mDataFrame\u001b[39m\u001b[39m\"\u001b[39m:  \u001b[39m# type: ignore[misc]\u001b[39;00m\n\u001b[1;32m   2992\u001b[0m \u001b[39m    \u001b[39m\u001b[39m\"\"\"Projects a set of expressions and returns a new :class:`DataFrame`.\u001b[39;00m\n\u001b[1;32m   2993\u001b[0m \n\u001b[1;32m   2994\u001b[0m \u001b[39m    .. versionadded:: 1.3.0\u001b[39;00m\n\u001b[0;32m   (...)\u001b[0m\n\u001b[1;32m   3034\u001b[0m \u001b[39m    +-----+---+\u001b[39;00m\n\u001b[1;32m   3035\u001b[0m \u001b[39m    \"\"\"\u001b[39;00m\n\u001b[0;32m-> 3036\u001b[0m     jdf \u001b[39m=\u001b[39m \u001b[39mself\u001b[39;49m\u001b[39m.\u001b[39;49m_jdf\u001b[39m.\u001b[39;49mselect(\u001b[39mself\u001b[39;49m\u001b[39m.\u001b[39;49m_jcols(\u001b[39m*\u001b[39;49mcols))\n\u001b[1;32m   3037\u001b[0m     \u001b[39mreturn\u001b[39;00m DataFrame(jdf, \u001b[39mself\u001b[39m\u001b[39m.\u001b[39msparkSession)\n",
      "File \u001b[0;32m~/miniconda3/envs/data_cleaning_env/lib/python3.10/site-packages/py4j/java_gateway.py:1322\u001b[0m, in \u001b[0;36mJavaMember.__call__\u001b[0;34m(self, *args)\u001b[0m\n\u001b[1;32m   1316\u001b[0m command \u001b[39m=\u001b[39m proto\u001b[39m.\u001b[39mCALL_COMMAND_NAME \u001b[39m+\u001b[39m\\\n\u001b[1;32m   1317\u001b[0m     \u001b[39mself\u001b[39m\u001b[39m.\u001b[39mcommand_header \u001b[39m+\u001b[39m\\\n\u001b[1;32m   1318\u001b[0m     args_command \u001b[39m+\u001b[39m\\\n\u001b[1;32m   1319\u001b[0m     proto\u001b[39m.\u001b[39mEND_COMMAND_PART\n\u001b[1;32m   1321\u001b[0m answer \u001b[39m=\u001b[39m \u001b[39mself\u001b[39m\u001b[39m.\u001b[39mgateway_client\u001b[39m.\u001b[39msend_command(command)\n\u001b[0;32m-> 1322\u001b[0m return_value \u001b[39m=\u001b[39m get_return_value(\n\u001b[1;32m   1323\u001b[0m     answer, \u001b[39mself\u001b[39;49m\u001b[39m.\u001b[39;49mgateway_client, \u001b[39mself\u001b[39;49m\u001b[39m.\u001b[39;49mtarget_id, \u001b[39mself\u001b[39;49m\u001b[39m.\u001b[39;49mname)\n\u001b[1;32m   1325\u001b[0m \u001b[39mfor\u001b[39;00m temp_arg \u001b[39min\u001b[39;00m temp_args:\n\u001b[1;32m   1326\u001b[0m     \u001b[39mif\u001b[39;00m \u001b[39mhasattr\u001b[39m(temp_arg, \u001b[39m\"\u001b[39m\u001b[39m_detach\u001b[39m\u001b[39m\"\u001b[39m):\n",
      "File \u001b[0;32m~/miniconda3/envs/data_cleaning_env/lib/python3.10/site-packages/pyspark/errors/exceptions/captured.py:175\u001b[0m, in \u001b[0;36mcapture_sql_exception.<locals>.deco\u001b[0;34m(*a, **kw)\u001b[0m\n\u001b[1;32m    171\u001b[0m converted \u001b[39m=\u001b[39m convert_exception(e\u001b[39m.\u001b[39mjava_exception)\n\u001b[1;32m    172\u001b[0m \u001b[39mif\u001b[39;00m \u001b[39mnot\u001b[39;00m \u001b[39misinstance\u001b[39m(converted, UnknownException):\n\u001b[1;32m    173\u001b[0m     \u001b[39m# Hide where the exception came from that shows a non-Pythonic\u001b[39;00m\n\u001b[1;32m    174\u001b[0m     \u001b[39m# JVM exception message.\u001b[39;00m\n\u001b[0;32m--> 175\u001b[0m     \u001b[39mraise\u001b[39;00m converted \u001b[39mfrom\u001b[39;00m \u001b[39mNone\u001b[39;00m\n\u001b[1;32m    176\u001b[0m \u001b[39melse\u001b[39;00m:\n\u001b[1;32m    177\u001b[0m     \u001b[39mraise\u001b[39;00m\n",
      "\u001b[0;31mAnalysisException\u001b[0m: [UNRESOLVED_COLUMN.WITH_SUGGESTION] A column or function parameter with name `map` cannot be resolved. Did you mean one of the following? [`id`, `dists`, `nsfw_dist`].;\n'Project [id#13, 'map]\n+- Project [id#13, dists#90, merge(dists#90)#93 AS nsfw_dist#94]\n   +- Aggregate [id#13], [id#13, collect_list(dists#14, 0, 0) AS dists#90]\n      +- LogicalRDD [id#13, dists#14], false\n"
     ]
    }
   ],
   "source": [
    "df2.select(\"id\", \"map\").show()"
   ]
  },
  {
   "cell_type": "code",
   "execution_count": 11,
   "metadata": {},
   "outputs": [
    {
     "name": "stdout",
     "output_type": "stream",
     "text": [
      "+------------------------+\n",
      "|map3                    |\n",
      "+------------------------+\n",
      "|{a -> 1, b -> 2, c -> 3}|\n",
      "+------------------------+\n",
      "\n"
     ]
    }
   ],
   "source": [
    "df.select(map_concat(\"map1\", \"map2\").alias(\"map3\")).show(truncate=False)"
   ]
  },
  {
   "cell_type": "code",
   "execution_count": null,
   "metadata": {},
   "outputs": [],
   "source": [
    "df.select(\"propertiesMap\").rdd.reduceByKey(add).collect()"
   ]
  },
  {
   "cell_type": "code",
   "execution_count": null,
   "metadata": {},
   "outputs": [],
   "source": [
    "from pyspark.sql import SparkSession\n",
    "from pyspark.sql.functions import col, expr, map_concat\n",
    "\n",
    "# Create a Spark session\n",
    "spark = SparkSession.builder.appName(\"MapAggregation\").getOrCreate()\n",
    "\n",
    "# Sample data in the given format\n",
    "data = [\n",
    "    (42114, [{\"Sales\": 1}]),\n",
    "    (40288, [{\"Finance\": 1}]),\n",
    "    (39192, [{\"Marketing\": 1}]),\n",
    "    (34534, [{\"Sales\": 1}]),\n",
    "    (36636, [{\"Finance\": 1}, {\"Sales\": 2}]),\n",
    "]\n",
    "\n",
    "# Create a DataFrame with the sample data\n",
    "asd_df = spark.createDataFrame(data, [\"id\", \"dist\"])\n",
    "\n",
    "# Convert the list of maps into a single map using 'transform' and 'map_concat'\n",
    "single_map_df = asd_df.withColumn(\"dist\", expr(\"map_concat(*transform(dist, (x, i) -> map(x)))\"))\n",
    "\n",
    "# Show the result\n",
    "single_map_df.show(truncate=False)"
   ]
  },
  {
   "cell_type": "code",
   "execution_count": null,
   "metadata": {},
   "outputs": [],
   "source": [
    "from pyspark.sql import SparkSession\n",
    "from pyspark.sql.functions import col, explode, expr, map_from_entries\n",
    "\n",
    "# Create a Spark session\n",
    "spark = SparkSession.builder.appName(\"MapAggregation\").getOrCreate()\n",
    "\n",
    "# Sample data in the given format\n",
    "data = [\n",
    "    (42114, [{\"Sales\": 1}]),\n",
    "    (40288, [{\"Finance\": 1}]),\n",
    "    (39192, [{\"Marketing\": 1}]),\n",
    "    (34534, [{\"Sales\": 1}]),\n",
    "    (36636, [{\"Finance\": 1}, {\"Sales\": 2}]),\n",
    "]\n",
    "\n",
    "# Create a DataFrame with the sample data\n",
    "df = spark.createDataFrame(data, [\"id\", \"dist\"])\n",
    "\n",
    "# Explode the 'dist' array to create individual rows for each map entry\n",
    "exploded_df = df.select(\"id\", explode(\"dist\").alias(\"map_entry\"))\n",
    "\n",
    "# Extract key-value pairs from the 'map_entry' column\n",
    "key_value_df = exploded_df.select(\n",
    "    \"id\", expr(\"map_entry.keys[0]\").alias(\"key\"), expr(\"map_entry.values[0]\").alias(\"value\")\n",
    ")\n",
    "\n",
    "# # Group by 'id' and aggregate key-value pairs into a single map using 'map_from_entries'\n",
    "# single_map_df = key_value_df.groupBy(\"id\").agg(map_from_entries(expr(\"collect_list(struct(key, value))\")).alias(\"dist\"))\n",
    "\n",
    "# # Show the result\n",
    "# single_map_df.show(truncate=False)"
   ]
  },
  {
   "cell_type": "code",
   "execution_count": 1,
   "metadata": {},
   "outputs": [],
   "source": [
    "import argparse\n",
    "import os\n",
    "from typing import Dict, Iterable, List, Tuple\n",
    "from pyspark.sql import SparkSession\n",
    "from pyspark.sql.functions import when, col\n",
    "from pyspark import SparkContext, TaskContext\n",
    "import json\n",
    "import time\n",
    "import pyarrow as pa\n",
    "import pyarrow.parquet as pq\n",
    "from functools import partial\n",
    "import math\n",
    "import trafilatura"
   ]
  },
  {
   "cell_type": "code",
   "execution_count": 6,
   "metadata": {},
   "outputs": [],
   "source": [
    "def analyze_parquets(df):\n",
    "    df = df.filter(df.successful_extraction == False)\n",
    "    df.select(\"url\").show(truncate=False)\n",
    "    print(f\"Total Document with failed extraction: {df.count()}\")\n",
    "    return df"
   ]
  },
  {
   "cell_type": "code",
   "execution_count": 7,
   "metadata": {},
   "outputs": [
    {
     "name": "stderr",
     "output_type": "stream",
     "text": [
      "                                                                                \r"
     ]
    },
    {
     "name": "stdout",
     "output_type": "stream",
     "text": [
      "Repartitioned the data into - 33 partitions\n",
      "Starting analysis....\n"
     ]
    },
    {
     "name": "stderr",
     "output_type": "stream",
     "text": [
      "                                                                                \r"
     ]
    },
    {
     "name": "stdout",
     "output_type": "stream",
     "text": [
      "+-------------------------------------------------------------------------------------------------------------------------------------------+\n",
      "|url                                                                                                                                        |\n",
      "+-------------------------------------------------------------------------------------------------------------------------------------------+\n",
      "|https://www.mediaoneonline.com/h-pdf-viewer?url=https://www.mediaoneonline.com/pdf_upload/kerala-link-uk-local-election-special-1367391.pdf|\n",
      "|http://pravasionline.com/adclick?pagename=listnews.php&bannerid=359&target=http%3A%2F%2Fwww.ktalk.co.uk                                    |\n",
      "|https://www.livenewage.com/calendar/list/page/17/?tribe-bar-date=2023-07-04&ical=1                                                         |\n",
      "|https://www.livenewage.com/calendar/list/page/7/?tribe-bar-date=2023-05-31&eventDisplay=past&ical=1                                        |\n",
      "|https://www.livenewage.com/calendar/list/page/22/?tribe-bar-date=2023-10-19&eventDisplay=past&ical=1                                       |\n",
      "|https://www.livenewage.com/calendar/list/page/7/?tribe-bar-date=2023-05-18&eventDisplay=past&ical=1                                        |\n",
      "|https://www.livenewage.com/calendar/list/page/9/?tribe-bar-date=2023-09-04&outlook-ical=1#038;ical=1                                       |\n",
      "|https://www.livenewage.com/calendar/list/page/5/?tribe-bar-date=2023-07-13&ical=1                                                          |\n",
      "|https://www.livenewage.com/calendar/list/page/19/?tribe-bar-date=2023-05-30&ical=1                                                         |\n",
      "|https://www.livenewage.com/calendar/list/page/14/?tribe-bar-date=2023-11-04&eventDisplay=past&ical=1                                       |\n",
      "|https://www.livenewage.com/calendar/list/page/12/?tribe-bar-date=2023-03-04&outlook-ical=1#038;ical=1                                      |\n",
      "|https://www.livenewage.com/calendar/list/?tribe-bar-date=2023-05-14&eventDisplay=past&ical=1                                               |\n",
      "|https://www.livenewage.com/calendar/list/page/7/?tribe-bar-date=2023-07-18&outlook-ical=1#038;ical=1                                       |\n",
      "|https://www.livenewage.com/calendar/list/page/27/?tribe-bar-date=2023-05-07&ical=1                                                         |\n",
      "|https://www.livenewage.com/calendar/list/page/5/?tribe-bar-date=2023-06-20&outlook-ical=1#038;ical=1                                       |\n",
      "|https://www.livenewage.com/calendar/list/page/20/?tribe-bar-date=2023-06-11&ical=1                                                         |\n",
      "|https://www.livenewage.com/calendar/list/page/9/?tribe-bar-date=2023-12-05&eventDisplay=past&ical=1                                        |\n",
      "|https://www.livenewage.com/calendar/list/page/10/?tribe-bar-date=2023-07-02&outlook-ical=1#038;ical=1                                      |\n",
      "|https://www.livenewage.com/calendar/list/page/5/?tribe-bar-date=2023-08-16&eventDisplay=past&ical=1                                        |\n",
      "|https://www.livenewage.com/calendar/list/page/9/?tribe-bar-date=2023-08-13&outlook-ical=1#038;ical=1                                       |\n",
      "+-------------------------------------------------------------------------------------------------------------------------------------------+\n",
      "only showing top 20 rows\n",
      "\n"
     ]
    },
    {
     "name": "stderr",
     "output_type": "stream",
     "text": [
      "                                                                                \r"
     ]
    },
    {
     "name": "stdout",
     "output_type": "stream",
     "text": [
      "Total Document with failed extraction: 16403\n",
      "Converted malayalam to parquet in ......  6.728627443313599\n"
     ]
    }
   ],
   "source": [
    "if __name__ == \"__main__\":\n",
    "\n",
    "    PATH = \"~/../../../../datasets/sangraha/parquets-trafilatura/*/*\"\n",
    "\n",
    "    spark: SparkSession = SparkSession \\\n",
    "                            .builder \\\n",
    "                            .master(\"local\") \\\n",
    "                            .appName(\"Data Pipeline\") \\\n",
    "                            .getOrCreate()\n",
    "\n",
    "    sc = spark.sparkContext\n",
    "\n",
    "    df = spark.read.parquet(PATH)\n",
    "\n",
    "    df_len = df.count()\n",
    "\n",
    "    n_splits = math.ceil(df_len/200000)\n",
    "\n",
    "    df = df.repartition(n_splits)\n",
    "    \n",
    "    print(f\"Repartitioned the data into - {n_splits} partitions\")\n",
    "\n",
    "    print(\"Starting analysis....\")\n",
    "\n",
    "    start = time.time()\n",
    "\n",
    "    _ = analyze_parquets(df)\n",
    "\n",
    "    end = time.time() - start\n",
    "\n",
    "    print(\"Converted malayalam to parquet in ...... \", end)\n",
    "\n",
    "    spark.stop()"
   ]
  },
  {
   "cell_type": "code",
   "execution_count": 111,
   "metadata": {},
   "outputs": [],
   "source": [
    "from pyspark.sql import SparkSession\n",
    "import pyspark.sql.functions as f\n",
    "from pyspark.sql.functions import col, expr, map_concat, collect_list\n",
    "\n",
    "# Create a Spark session\n",
    "spark = SparkSession.builder.appName(\"MapAggregation\").getOrCreate()\n",
    "\n",
    "# Sample data in the given format\n",
    "data = [\n",
    "    (132  ,1   ,\"Lucy\"),\n",
    "    (132  ,2   ,\"John\"),\n",
    "    (132  ,0   ,\"Sam\"),\n",
    "    (78   ,2   ,\"Kate\"),\n",
    "    (78   ,0   ,\"Julia\"),\n",
    "    (78   ,1   ,\"Vivien\"),\n",
    "    (245  ,0   ,\"Tom\")\n",
    "]\n",
    "\n",
    "# Create a DataFrame with the sample data\n",
    "df = spark.createDataFrame(data, [\"id\", \"pos\", \"text\"])"
   ]
  },
  {
   "cell_type": "code",
   "execution_count": 112,
   "metadata": {},
   "outputs": [
    {
     "name": "stdout",
     "output_type": "stream",
     "text": [
      "+---+---+------+\n",
      "| id|pos|  text|\n",
      "+---+---+------+\n",
      "|132|  1|  Lucy|\n",
      "|132|  2|  John|\n",
      "|132|  0|   Sam|\n",
      "| 78|  2|  Kate|\n",
      "| 78|  0| Julia|\n",
      "| 78|  1|Vivien|\n",
      "|245|  0|   Tom|\n",
      "+---+---+------+\n",
      "\n"
     ]
    }
   ],
   "source": [
    "df.show()"
   ]
  },
  {
   "cell_type": "code",
   "execution_count": 113,
   "metadata": {},
   "outputs": [],
   "source": [
    "def concat_strings(idx, partition, text_column, identifier_column, sort_column, join_symbol):\n",
    "    doc_string = \"\"\n",
    "    lines_from_single_docs = False\n",
    "    previous_id_val = -1\n",
    "    for i, line_row in enumerate(partition):\n",
    "        if i == 0:\n",
    "            previous_id_val = line_row[identifier_column]\n",
    "        elif previous_id_val != line_row[identifier_column]:\n",
    "            raise Exception(\"Partitioning not performed properly\")\n",
    "\n",
    "        doc_string += line_row[text_column] + join_symbol\n",
    "\n",
    "    return doc_string.strip(join_symbol)"
   ]
  },
  {
   "cell_type": "code",
   "execution_count": 116,
   "metadata": {},
   "outputs": [],
   "source": [
    "columns = [\"pos\", \"text\"]\n",
    "join_symbol = \" \"\n",
    "join_lines = f.udf(lambda x: join_symbol.join([line.text for line in x ]), StringType())\n",
    "df2 = df \\\n",
    "        .withColumn(\"text\", f.struct(columns)).select(\"id\", \"text\") \\\n",
    "        .groupBy(\"id\") \\\n",
    "        .agg(collect_list(\"text\").alias(\"text\")) \\\n",
    "        .withColumn(\n",
    "            \"text\",\n",
    "            f.expr(\n",
    "                \"array_sort(transform(text,x->struct(x['pos'] as pos,x['text'] as text)))\"\n",
    "            )   \n",
    "        ) \\\n",
    "        .withColumn(\"text\", join_lines(\"text\"))\n",
    "        "
   ]
  },
  {
   "cell_type": "code",
   "execution_count": 117,
   "metadata": {},
   "outputs": [
    {
     "name": "stdout",
     "output_type": "stream",
     "text": [
      "+---+-----------------+\n",
      "| id|             text|\n",
      "+---+-----------------+\n",
      "|132|    Sam Lucy John|\n",
      "| 78|Julia Vivien Kate|\n",
      "|245|              Tom|\n",
      "+---+-----------------+\n",
      "\n"
     ]
    }
   ],
   "source": [
    "df2.show()"
   ]
  },
  {
   "attachments": {},
   "cell_type": "markdown",
   "metadata": {},
   "source": [
    "# Parquet Check"
   ]
  },
  {
   "cell_type": "code",
   "execution_count": 1,
   "metadata": {},
   "outputs": [
    {
     "name": "stderr",
     "output_type": "stream",
     "text": [
      "Setting default log level to \"WARN\".\n",
      "To adjust logging level use sc.setLogLevel(newLevel). For SparkR, use setLogLevel(newLevel).\n",
      "23/07/31 08:23:16 WARN NativeCodeLoader: Unable to load native-hadoop library for your platform... using builtin-java classes where applicable\n"
     ]
    }
   ],
   "source": [
    "import pandas as pd\n",
    "from pyspark.sql import SparkSession\n",
    "import pyspark.sql.functions as f\n",
    "from pyspark.sql.functions import col, expr, map_concat, collect_list\n",
    "\n",
    "# Create a Spark session\n",
    "spark = SparkSession.builder.appName(\"MapAggregation\").getOrCreate()"
   ]
  },
  {
   "cell_type": "code",
   "execution_count": 2,
   "metadata": {},
   "outputs": [],
   "source": [
    "df = spark.read.parquet(\"/mnt/phallm-data/datasets/sangraha/parquets-trafilatura/malayalam/0.parquet\")"
   ]
  },
  {
   "cell_type": "code",
   "execution_count": 6,
   "metadata": {},
   "outputs": [
    {
     "name": "stdout",
     "output_type": "stream",
     "text": [
      "+--------------------+--------------------+--------------+--------------+---------+--------------------+---------------------+--------------------+-----------+--------------------+--------+-------------+--------+--------+----------+----------+----+-----------+----+-------+----+------------+--------+-----+--------+\n",
      "|              doc_id|                 url|        source|     timestamp| language|          local_path|successful_extraction|               title|description|                text|comments|       author|hostname|sitename|      date|categories|tags|fingerprint|  id|license|body|commentsbody|raw_text|image|pagetype|\n",
      "+--------------------+--------------------+--------------+--------------+---------+--------------------+---------------------+--------------------+-----------+--------------------+--------+-------------+--------+--------+----------+----------+----+-----------+----+-------+----+------------+--------+-----+--------+\n",
      "|93dd6b95b4e951593...|https://www.chand...|chandrikadaily|01/06/23 03:11|malayalam|/mnt/phallm-data/...|                 true|കോട്ടയത്ത് കാലിത്...|       null|kerala\\nകോട്ടയത്ത...|        |Chandrika Web|    null|    null|2023-02-09|        []|  []|       null|null|   null|null|        null|    null| null|    null|\n",
      "+--------------------+--------------------+--------------+--------------+---------+--------------------+---------------------+--------------------+-----------+--------------------+--------+-------------+--------+--------+----------+----------+----+-----------+----+-------+----+------------+--------+-----+--------+\n",
      "only showing top 1 row\n",
      "\n"
     ]
    }
   ],
   "source": [
    "df.show(n=1)"
   ]
  },
  {
   "cell_type": "code",
   "execution_count": 7,
   "metadata": {},
   "outputs": [],
   "source": [
    "df = df.select(\"*\")"
   ]
  },
  {
   "cell_type": "code",
   "execution_count": 1,
   "metadata": {},
   "outputs": [],
   "source": [
    "from indicnlp.tokenize.sentence_tokenize import sentence_split"
   ]
  },
  {
   "cell_type": "code",
   "execution_count": 10,
   "metadata": {},
   "outputs": [],
   "source": [
    "a = \"\"\"પરત ફરવાની હજુ તક, નહિંતર ત્રણ મહિનામાં આખી રમત બદલી નાખીશ”: શરદ પવારની અજીત જૂથને ચેતવણી\n",
    "NCP નેતા અજીત પવારના બળવા બાદ મહારાષ્ટ્રમાં રાજકીય ઉથલપાથલ મચી ગઈ છે. અજીત પવાર અને NCPના 8 ધારાસભ્યો મહારાષ્ટ્રની એકનાથ ...\n",
    "અજીત પવાર એકનાથ શિંદેવાળી કરશે? ધારાસભ્યોને ક્યાં લઈ જશે? સુરત, ગોવા કે ગુવાહાટી?\n",
    "મહારાષ્ટ્રમાં સતત ગરબડ વચ્ચે રાષ્ટ્રવાદી કોંગ્રેસ પાર્ટી (NCP) પર વર્ચસ્વની લડાઈ તેજ થઈ ગઈ છે. એક તરફ શરદ પવારે અજીતના ...\n",
    "મહારાષ્ટ્રમાં ભાજપે રમ્યો માસ્ટર સ્ટ્રોક રાજકીય ખેલમાં શિંદે પર લગામ, શરદ પવાર સહિત સમગ્ર વિપક્ષ નિષ્ફળ\n",
    "મહારાષ્ટ્રના રાજકારણમાં રવિવારે ભૂકંપ આવી ગયો જ્યારે NCP નેતા અજિત પવાર એક ડઝન જેટલા ધારાસભ્યો સાથે અચાનક NDAમાં સામેલ થઈ ...\"\"\""
   ]
  },
  {
   "cell_type": "code",
   "execution_count": 11,
   "metadata": {},
   "outputs": [
    {
     "data": {
      "text/plain": [
       "['પરત ફરવાની હજુ તક, નહિંતર ત્રણ મહિનામાં આખી રમત બદલી નાખીશ”: શરદ પવારની અજીત જૂથને ચેતવણી',\n",
       " 'NCP નેતા અજીત પવારના બળવા બાદ મહારાષ્ટ્રમાં રાજકીય ઉથલપાથલ મચી ગઈ છે. અજીત પવાર અને NCPના 8 ધારાસભ્યો મહારાષ્ટ્રની એકનાથ ...',\n",
       " 'અજીત પવાર એકનાથ શિંદેવાળી કરશે? ધારાસભ્યોને ક્યાં લઈ જશે? સુરત, ગોવા કે ગુવાહાટી?',\n",
       " 'મહારાષ્ટ્રમાં સતત ગરબડ વચ્ચે રાષ્ટ્રવાદી કોંગ્રેસ પાર્ટી (NCP) પર વર્ચસ્વની લડાઈ તેજ થઈ ગઈ છે. એક તરફ શરદ પવારે અજીતના ...',\n",
       " 'મહારાષ્ટ્રમાં ભાજપે રમ્યો માસ્ટર સ્ટ્રોક રાજકીય ખેલમાં શિંદે પર લગામ, શરદ પવાર સહિત સમગ્ર વિપક્ષ નિષ્ફળ',\n",
       " 'મહારાષ્ટ્રના રાજકારણમાં રવિવારે ભૂકંપ આવી ગયો જ્યારે NCP નેતા અજિત પવાર એક ડઝન જેટલા ધારાસભ્યો સાથે અચાનક NDAમાં સામેલ થઈ ...']"
      ]
     },
     "execution_count": 11,
     "metadata": {},
     "output_type": "execute_result"
    }
   ],
   "source": [
    "a.split(\"\\n\")"
   ]
  },
  {
   "cell_type": "code",
   "execution_count": 8,
   "metadata": {},
   "outputs": [
    {
     "data": {
      "text/plain": [
       "['અજીત પવારને ઝટકો,વધુ બે ધારાસભ્ચોનો યુટર્ન, છોડ્યો અજિત પવારનો સાથ\\nમહારાષ્ટ્રમાં રવિવારે થયેલાં હાઈ વોલ્ટેજ રાજકીય ડ્રામા બાદ યુ-ટર્નની મોસમ ખીલી રહી છે.',\n",
       " 'અમોલ કોલ્હે બાદ હવે વધુ એક વિધાનસભ્યએ . . . પવાર vs પવારઃ બળવો કરનારા અજીત પવાર, પ્રફૂલ્લ પટેલ સહિતનાં તમામ નેતાઓને NCPમાંથી બરતરફ કરાયા\\nમહારાષ્ટ્રના રાજકારણમાં શિવસેના સાામે બળવો કરીને એકનાથ શિંદેએ સરકાર બનાવ્યાના એક વર્ષમાં ફરી વધુ એક વાર રાષ્ટ્રવાદી કોંગ્રેસ પાર્ટી (એનસીપી)માં .',\n",
       " '. .']"
      ]
     },
     "execution_count": 8,
     "metadata": {},
     "output_type": "execute_result"
    }
   ],
   "source": [
    "sentence_split(a, \"guj\")"
   ]
  },
  {
   "cell_type": "code",
   "execution_count": null,
   "metadata": {},
   "outputs": [],
   "source": []
  }
 ],
 "metadata": {
  "kernelspec": {
   "display_name": "data_cleaning_env",
   "language": "python",
   "name": "python3"
  },
  "language_info": {
   "codemirror_mode": {
    "name": "ipython",
    "version": 3
   },
   "file_extension": ".py",
   "mimetype": "text/x-python",
   "name": "python",
   "nbconvert_exporter": "python",
   "pygments_lexer": "ipython3",
   "version": "3.11.4"
  },
  "orig_nbformat": 4
 },
 "nbformat": 4,
 "nbformat_minor": 2
}
